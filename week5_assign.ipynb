{
 "cells": [
  {
   "cell_type": "markdown",
   "metadata": {
    "colab_type": "text",
    "id": "iHagJG6Wul4Y"
   },
   "source": [
    "This assignment serves three purposes:\n",
    "\n",
    "--> Introducing you to RandomForestClassifier\n",
    "--> Trying to implement Dense CNN model using the skills you gained till now\n",
    "\n",
    "This assingemnt might not contain a line to line explaination of the task to be performed. You got to start visiting the documentations or any example online to help you out with queries like syntax and parameters.\n",
    "\n",
    "The third and the most crucial purpose of all is helping you understand how to implement different models for the same task.\n",
    "Here, we have given you the task of hand-written digit classification on MNIST dataset, first using RandomForestClassifier and second using Dense CNN and if you wish, you could also try to implement this task from the model of previous assingment with of-course a little bit of tweaking. "
   ]
  },
  {
   "cell_type": "code",
   "execution_count": 1,
   "metadata": {
    "colab": {},
    "colab_type": "code",
    "id": "YuKiwK3Dn9Bq"
   },
   "outputs": [],
   "source": [
    "import pandas as pd\n",
    "import numpy as np\n",
    "import tensorflow as tf"
   ]
  },
  {
   "cell_type": "code",
   "execution_count": 2,
   "metadata": {
    "colab": {},
    "colab_type": "code",
    "id": "VKLusGinn9Bv",
    "outputId": "5cccbc1a-addc-415c-993e-7f4cfcb8628d"
   },
   "outputs": [],
   "source": [
    "from scipy.io import loadmat\n",
    "# set path of dataset to mnist_path varaible and loadmat() it to mnist_raw\n",
    "\n",
    "mnist_raw=loadmat(\"mnist-original\")\n",
    "\n",
    "mnist ={ \"data\":mnist_raw[\"data\"].T,\"target\":mnist_raw[\"label\"][0],\n",
    "         \"COL_NAMES\":[\"label\",\"data\"],\"DESCR\": \"mldata.org dataset:mnist-original\",\n",
    "       }"
   ]
  },
  {
   "cell_type": "code",
   "execution_count": 3,
   "metadata": {
    "colab": {},
    "colab_type": "code",
    "id": "jk-UYMUzn9B1"
   },
   "outputs": [
    {
     "name": "stdout",
     "output_type": "stream",
     "text": [
      "Shape of X:(70000, 784)\n",
      "Shape of Y:(70000,)\n"
     ]
    }
   ],
   "source": [
    "# store data in X and target in y\n",
    "X=mnist[\"data\"]\n",
    "y=mnist[\"target\"]\n",
    "\n",
    "\n",
    "#Our data is expected to has 70000 instances(rows) and 784 features(columns)\n",
    "\n",
    "print(\"Shape of X:\"+str(X.shape))\n",
    "print(\"Shape of Y:\"+str(y.shape))"
   ]
  },
  {
   "cell_type": "code",
   "execution_count": 4,
   "metadata": {
    "colab": {},
    "colab_type": "code",
    "id": "Ch8difi7n9B5"
   },
   "outputs": [],
   "source": [
    "#import matplotlib \n",
    "import matplotlib.pyplot as plt\n"
   ]
  },
  {
   "cell_type": "code",
   "execution_count": 5,
   "metadata": {
    "colab": {},
    "colab_type": "code",
    "id": "SHTW7MPan9B9",
    "outputId": "973e9553-306c-42c3-c3a9-60ce59477c82"
   },
   "outputs": [
    {
     "data": {
      "text/plain": [
       "<matplotlib.image.AxesImage at 0x1667b5fcb48>"
      ]
     },
     "execution_count": 5,
     "metadata": {},
     "output_type": "execute_result"
    },
    {
     "data": {
      "image/png": "[encoded data removed]",
      "text/plain": [
       "<Figure size 432x288 with 1 Axes>"
      ]
     },
     "metadata": {
      "needs_background": "light"
     },
     "output_type": "display_data"
    }
   ],
   "source": [
    "# pick any example from z, rehshape it to 28x28 type and display it using matplot\n",
    "rndm=np.random.choice(range(y.shape[0]),1)\n",
    "plt.imshow(X[rndm].reshape(28,28))\n"
   ]
  },
  {
   "cell_type": "code",
   "execution_count": null,
   "metadata": {
    "colab": {},
    "colab_type": "code",
    "id": "_rL9RDX-n9CB"
   },
   "outputs": [],
   "source": [
    "# To randomize out data set we have to shuffle it\n",
    "#np.random.permutation() gives us an np.array of numbers in range given range\n",
    "#  reshuffle X and y\n",
    "\n",
    "\n"
   ]
  },
  {
   "cell_type": "code",
   "execution_count": 6,
   "metadata": {
    "colab": {},
    "colab_type": "code",
    "id": "SFG3ztPkn9CE"
   },
   "outputs": [
    {
     "name": "stdout",
     "output_type": "stream",
     "text": [
      "(60000, 784)\n",
      "(10000, 784)\n",
      "(60000,)\n",
      "(10000,)\n"
     ]
    }
   ],
   "source": [
    "# we are dividing the data in 60,000 and 10,000 for training and testing\n",
    "X_train=X[:60000]\n",
    "X_test=X[60000:]\n",
    "y_train=y[:60000]\n",
    "y_test=y[60000:]\n",
    "print(X_train.shape)\n",
    "print(X_test.shape)\n",
    "print(y_train.shape)\n",
    "print(y_test.shape)\n"
   ]
  },
  {
   "cell_type": "code",
   "execution_count": 8,
   "metadata": {
    "colab": {},
    "colab_type": "code",
    "id": "36J2MsdEn9CI",
    "outputId": "0129c70f-37cd-42e1-c08b-fdf22bee4fe3"
   },
   "outputs": [
    {
     "data": {
      "text/plain": [
       "RandomForestClassifier(bootstrap=True, ccp_alpha=0.0, class_weight=None,\n",
       "                       criterion='gini', max_depth=None, max_features='auto',\n",
       "                       max_leaf_nodes=None, max_samples=None,\n",
       "                       min_impurity_decrease=0.0, min_impurity_split=None,\n",
       "                       min_samples_leaf=1, min_samples_split=2,\n",
       "                       min_weight_fraction_leaf=0.0, n_estimators=100,\n",
       "                       n_jobs=None, oob_score=False, random_state=42, verbose=0,\n",
       "                       warm_start=False)"
      ]
     },
     "execution_count": 8,
     "metadata": {},
     "output_type": "execute_result"
    }
   ],
   "source": [
    "\n",
    "from sklearn.ensemble import RandomForestClassifier\n",
    "from sklearn.metrics import mean_absolute_error\n",
    "\n",
    "#create a rondom forest classifier with random state of 42 and fit your train varaibles \n",
    "\n",
    "model=RandomForestClassifier(random_state=42);\n",
    "model.fit(X_train,y_train)\n",
    "\n"
   ]
  },
  {
   "cell_type": "code",
   "execution_count": 9,
   "metadata": {
    "colab": {},
    "colab_type": "code",
    "id": "fw8rI-Bvn9CL"
   },
   "outputs": [
    {
     "name": "stdout",
     "output_type": "stream",
     "text": [
      "MAE in Train set  0.0\n",
      "Accuracy in Train set  1.0\n",
      "MAE in test set  0.1185\n",
      "Accuracy in Test set  0.9688\n"
     ]
    }
   ],
   "source": [
    "from sklearn.metrics import accuracy_score\n",
    "# predict your train X varariable and find mean_absolute error it should be around 0.00333\n",
    "y_pred=model.predict(X_train)\n",
    "err=mean_absolute_error(y_train,y_pred)\n",
    "print(\"MAE in Train set \",err)\n",
    "print(\"Accuracy in Train set \",accuracy_score(y_train,y_pred))\n",
    "# repeat the same for test X it should be around 0.205\n",
    "y_pred=model.predict(X_test)\n",
    "err=mean_absolute_error(y_test,y_pred)\n",
    "print(\"MAE in test set \",err)\n",
    "print(\"Accuracy in Test set \",accuracy_score(y_test,y_pred))"
   ]
  },
  {
   "cell_type": "code",
   "execution_count": null,
   "metadata": {
    "colab": {},
    "colab_type": "code",
    "id": "TSq2hH6Vn9CW"
   },
   "outputs": [],
   "source": [
    "# Now that RandonForest has been explored, we'll be implementing Dense CNN model"
   ]
  },
  {
   "cell_type": "code",
   "execution_count": 10,
   "metadata": {
    "colab": {},
    "colab_type": "code",
    "id": "ehWGQ6VNn9Cb"
   },
   "outputs": [],
   "source": [
    "# First order of business is creating the model\n",
    "# for that purpose we've already imported the required things \n",
    "# your task is to use the above imported modules and whatever skills you have harnessed and build a model from scratch\n",
    "# JUST A REMINDER , WE TRIED TO INTRODUCE YOU ALL WITH MOST OF THE LIBRARIES WHICH WE USE ON A DAILY BASIS\n",
    "# ONE OF THEM IS KERAS USING WHICH YOU'LL IMPLEMENT THIS LAST ASSINGMENT \n",
    "# BUT DON'T WORRY THAT ITS NEW. THE CONCEPTS WHICH YOU ALL HAVE GAINED UPTIL NOW WILL ONLY BE USED \n",
    "# DON'T PANIC THAT YOU DON'T KNOW KERAS\n",
    "# JUST GIVE IT A TRY. CREATING A MODEL IS SIMILAR TO THAT IN PYTORCH.\n",
    "\n",
    "from tensorflow.keras.models import Sequential\n",
    "from tensorflow.keras.layers import Dense,Dropout,BatchNormalization,Conv2D, MaxPooling2D, Flatten\n",
    "\n",
    "# keras initializer\n",
    "X1_train=X_train.reshape(60000,28,28)\n",
    "X1_test=X_test.reshape(10000,28,28)"
   ]
  },
  {
   "cell_type": "code",
   "execution_count": 11,
   "metadata": {
    "colab": {},
    "colab_type": "code",
    "id": "r0P5nGgan9Cg"
   },
   "outputs": [],
   "source": [
    "# model\n",
    "model = Sequential([\n",
    "    Flatten(input_shape=(28, 28)),\n",
    "    Dense(128, activation='relu'),\n",
    "    Dense(10)\n",
    "])"
   ]
  },
  {
   "cell_type": "code",
   "execution_count": 12,
   "metadata": {
    "colab": {},
    "colab_type": "code",
    "id": "6zsw6k7kn9Cj"
   },
   "outputs": [],
   "source": [
    "# after creating the model compile it with proper optimizer and loss function \n",
    "# You can refer to any keras model training for your reference \n",
    "model.compile(optimizer='adam',\n",
    "              loss=tf.keras.losses.SparseCategoricalCrossentropy(from_logits=True),\n",
    "              metrics=['accuracy'])\n"
   ]
  },
  {
   "cell_type": "code",
   "execution_count": 13,
   "metadata": {
    "colab": {},
    "colab_type": "code",
    "id": "ZsNYrB4En9Cm"
   },
   "outputs": [
    {
     "name": "stdout",
     "output_type": "stream",
     "text": [
      "Train on 60000 samples\n",
      "Epoch 1/10\n",
      "60000/60000 [==============================] - 15s 244us/sample - loss: 2.4160 - accuracy: 0.8565\n",
      "Epoch 2/10\n",
      "60000/60000 [==============================] - 10s 173us/sample - loss: 0.3941 - accuracy: 0.9084\n",
      "Epoch 3/10\n",
      "60000/60000 [==============================] - 11s 177us/sample - loss: 0.2882 - accuracy: 0.9272\n",
      "Epoch 4/10\n",
      "60000/60000 [==============================] - 10s 167us/sample - loss: 0.2480 - accuracy: 0.9374\n",
      "Epoch 5/10\n",
      "60000/60000 [==============================] - 11s 177us/sample - loss: 0.2207 - accuracy: 0.9452\n",
      "Epoch 6/10\n",
      "60000/60000 [==============================] - 10s 174us/sample - loss: 0.2200 - accuracy: 0.9469\n",
      "Epoch 7/10\n",
      "60000/60000 [==============================] - 10s 174us/sample - loss: 0.2025 - accuracy: 0.9510\n",
      "Epoch 8/10\n",
      "60000/60000 [==============================] - 11s 182us/sample - loss: 0.1904 - accuracy: 0.9528\n",
      "Epoch 9/10\n",
      "60000/60000 [==============================] - 11s 185us/sample - loss: 0.1899 - accuracy: 0.9545\n",
      "Epoch 10/10\n",
      "60000/60000 [==============================] - 10s 174us/sample - loss: 0.1843 - accuracy: 0.9575\n"
     ]
    },
    {
     "data": {
      "text/plain": [
       "<tensorflow.python.keras.callbacks.History at 0x16602e7af08>"
      ]
     },
     "execution_count": 13,
     "metadata": {},
     "output_type": "execute_result"
    }
   ],
   "source": [
    "# Fit your train datasets\n",
    "model.fit(X1_train, y_train, epochs=10)"
   ]
  },
  {
   "cell_type": "code",
   "execution_count": 14,
   "metadata": {
    "colab": {},
    "colab_type": "code",
    "id": "3iZnY1S8n9Cq"
   },
   "outputs": [
    {
     "name": "stdout",
     "output_type": "stream",
     "text": [
      "10000/10000 - 1s - loss: 0.2638 - accuracy: 0.9508\n",
      "\n",
      "Test accuracy: 0.9508\n",
      "\n",
      "Test loss: 0.2637669875119915\n"
     ]
    }
   ],
   "source": [
    "# After fitting try your model with test dataset\n",
    "# see the accuracy\n",
    "test_loss, test_acc = model.evaluate(X1_test,  y_test, verbose=2)\n",
    "\n",
    "print('\\nTest accuracy:', test_acc)\n",
    "print('\\nTest loss:', test_loss)"
   ]
  },
  {
   "cell_type": "code",
   "execution_count": 17,
   "metadata": {},
   "outputs": [],
   "source": [
    "model = Sequential([\n",
    "    Conv2D(filters=32, kernel_size=(3,3), activation='relu', padding='same',input_shape=(28,28,1)),\n",
    "    MaxPooling2D(pool_size=(2,2)),\n",
    "    Conv2D(filters=64, kernel_size=(3,3), activation='relu', padding='same'),\n",
    "    MaxPooling2D(pool_size=(2,2)),\n",
    "    Conv2D(filters=64, kernel_size=(3,3), activation='relu', padding='same'),\n",
    "    MaxPooling2D(pool_size=(2,2)),\n",
    "    Flatten(),\n",
    "    Dense(128, activation='relu'),\n",
    "    Dense(10)\n",
    "])\n",
    "model.compile(optimizer='adam',\n",
    "              loss=tf.keras.losses.SparseCategoricalCrossentropy(from_logits=True),\n",
    "              metrics=['accuracy'])"
   ]
  },
  {
   "cell_type": "code",
   "execution_count": 21,
   "metadata": {
    "scrolled": true
   },
   "outputs": [
    {
     "name": "stdout",
     "output_type": "stream",
     "text": [
      "Train on 60000 samples\n",
      "Epoch 1/15\n",
      "60000/60000 [==============================] - 232s 4ms/sample - loss: 0.2905 - accuracy: 0.9379\n",
      "Epoch 2/15\n",
      "60000/60000 [==============================] - 225s 4ms/sample - loss: 0.0575 - accuracy: 0.9823\n",
      "Epoch 3/15\n",
      "60000/60000 [==============================] - 215s 4ms/sample - loss: 0.0438 - accuracy: 0.9867\n",
      "Epoch 4/15\n",
      "60000/60000 [==============================] - 218s 4ms/sample - loss: 0.0359 - accuracy: 0.9886\n",
      "Epoch 5/15\n",
      "60000/60000 [==============================] - 236s 4ms/sample - loss: 0.0323 - accuracy: 0.9898\n",
      "Epoch 6/15\n",
      "60000/60000 [==============================] - 263s 4ms/sample - loss: 0.0297 - accuracy: 0.9907\n",
      "Epoch 7/15\n",
      "60000/60000 [==============================] - 229s 4ms/sample - loss: 0.0285 - accuracy: 0.9906\n",
      "Epoch 8/15\n",
      "60000/60000 [==============================] - 229s 4ms/sample - loss: 0.0233 - accuracy: 0.9928\n",
      "Epoch 9/15\n",
      "60000/60000 [==============================] - 213s 4ms/sample - loss: 0.0233 - accuracy: 0.9924\n",
      "Epoch 10/15\n",
      "60000/60000 [==============================] - 227s 4ms/sample - loss: 0.0185 - accuracy: 0.9942\n",
      "Epoch 11/15\n",
      "60000/60000 [==============================] - 221s 4ms/sample - loss: 0.0205 - accuracy: 0.9939\n",
      "Epoch 12/15\n",
      "60000/60000 [==============================] - 229s 4ms/sample - loss: 0.0171 - accuracy: 0.9948\n",
      "Epoch 13/15\n",
      "60000/60000 [==============================] - 241s 4ms/sample - loss: 0.0155 - accuracy: 0.9950\n",
      "Epoch 14/15\n",
      "60000/60000 [==============================] - 240s 4ms/sample - loss: 0.0178 - accuracy: 0.9945\n",
      "Epoch 15/15\n",
      "60000/60000 [==============================] - 241s 4ms/sample - loss: 0.0124 - accuracy: 0.9964\n"
     ]
    },
    {
     "data": {
      "text/plain": [
       "<tensorflow.python.keras.callbacks.History at 0x16603193a48>"
      ]
     },
     "execution_count": 21,
     "metadata": {},
     "output_type": "execute_result"
    }
   ],
   "source": [
    "model.fit(X1_train.reshape(60000,28,28,1), y_train,epochs=15, batch_size=64)"
   ]
  },
  {
   "cell_type": "code",
   "execution_count": 23,
   "metadata": {},
   "outputs": [
    {
     "name": "stdout",
     "output_type": "stream",
     "text": [
      "10000/10000 - 15s - loss: 0.0537 - accuracy: 0.9896\n",
      "\n",
      "Test accuracy: 0.9896\n",
      "\n",
      "Test loss: 0.053672715060734365\n"
     ]
    }
   ],
   "source": [
    "test_loss, test_acc = model.evaluate(X1_test.reshape(10000,28,28,1),  y_test, verbose=2)\n",
    "\n",
    "print('\\nTest accuracy:', test_acc)\n",
    "print('\\nTest loss:', test_loss)"
   ]
  },
  {
   "cell_type": "code",
   "execution_count": null,
   "metadata": {
    "colab": {},
    "colab_type": "code",
    "id": "Src3IB64n9C0"
   },
   "outputs": [],
   "source": [
    "# Understand how and where to use which model and jot down your observations in a text file in the github repository."
   ]
  }
 ],
 "metadata": {
  "colab": {
   "collapsed_sections": [],
   "name": "Assignment_model.ipynb",
   "provenance": []
  },
  "kernelspec": {
   "display_name": "Python 3",
   "language": "python",
   "name": "python3"
  },
  "language_info": {
   "codemirror_mode": {
    "name": "ipython",
    "version": 3
   },
   "file_extension": ".py",
   "mimetype": "text/x-python",
   "name": "python",
   "nbconvert_exporter": "python",
   "pygments_lexer": "ipython3",
   "version": "3.7.7"
  }
 },
 "nbformat": 4,
 "nbformat_minor": 1
}
